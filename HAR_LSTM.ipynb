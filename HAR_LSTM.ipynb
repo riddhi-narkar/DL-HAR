{
 "cells": [
  {
   "cell_type": "code",
   "execution_count": 1,
   "metadata": {
    "collapsed": true
   },
   "outputs": [],
   "source": [
    "import pandas as pd\n",
    "import numpy as np"
   ]
  },
  {
   "cell_type": "code",
   "execution_count": 2,
   "metadata": {
    "collapsed": true
   },
   "outputs": [],
   "source": [
    "# Activities are the class labels\n",
    "# It is a 6 class classification\n",
    "ACTIVITIES = {\n",
    "    0: 'WALKING',\n",
    "    1: 'WALKING_UPSTAIRS',\n",
    "    2: 'WALKING_DOWNSTAIRS',\n",
    "    3: 'SITTING',\n",
    "    4: 'STANDING',\n",
    "    5: 'LAYING',\n",
    "}\n",
    "\n",
    "# Utility function to print the confusion matrix\n",
    "def confusion_matrix(Y_true, Y_pred):\n",
    "    Y_true = pd.Series([ACTIVITIES[y] for y in np.argmax(Y_true, axis=1)])\n",
    "    Y_pred = pd.Series([ACTIVITIES[y] for y in np.argmax(Y_pred, axis=1)])\n",
    "\n",
    "    return pd.crosstab(Y_true, Y_pred, rownames=['True'], colnames=['Pred'])"
   ]
  },
  {
   "cell_type": "markdown",
   "metadata": {},
   "source": [
    "### Data"
   ]
  },
  {
   "cell_type": "code",
   "execution_count": 3,
   "metadata": {
    "collapsed": true
   },
   "outputs": [],
   "source": [
    "# Data directory\n",
    "DATADIR = 'UCI_HAR_Dataset'"
   ]
  },
  {
   "cell_type": "code",
   "execution_count": 4,
   "metadata": {
    "collapsed": true
   },
   "outputs": [],
   "source": [
    "# Raw data signals\n",
    "# Signals are from Accelerometer and Gyroscope\n",
    "# The signals are in x,y,z directions\n",
    "# Sensor signals are filtered to have only body acceleration\n",
    "# excluding the acceleration due to gravity\n",
    "# Triaxial acceleration from the accelerometer is total acceleration\n",
    "SIGNALS = [\n",
    "    \"body_acc_x\",\n",
    "    \"body_acc_y\",\n",
    "    \"body_acc_z\",\n",
    "    \"body_gyro_x\",\n",
    "    \"body_gyro_y\",\n",
    "    \"body_gyro_z\",\n",
    "    \"total_acc_x\",\n",
    "    \"total_acc_y\",\n",
    "    \"total_acc_z\"\n",
    "]"
   ]
  },
  {
   "cell_type": "code",
   "execution_count": 31,
   "metadata": {
    "collapsed": true
   },
   "outputs": [],
   "source": [
    "# # Utility function to read the data from csv file\n",
    "# def _read_csv(filename):\n",
    "#     return pd.read_csv(filename, delim_whitespace=True, header=None)\n",
    "\n",
    "# # Utility function to load the load\n",
    "# def load_signals(subset):\n",
    "#     signals_data = []\n",
    "\n",
    "#     for signal in SIGNALS:\n",
    "#         filename = f'UCI_HAR_Dataset/{subset}/Inertial Signals/{signal}_{subset}.txt'\n",
    "#         signals_data.append(\n",
    "#             _read_csv(filename).as_matrix()\n",
    "#         )\n",
    "\n",
    "#     # Transpose is used to change the dimensionality of the output,\n",
    "#     # aggregating the signals by combination of sample/timestep.\n",
    "#     # Resultant shape is (7352 train/2947 test samples, 128 timesteps, 9 signals)\n",
    "#     return np.transpose(signals_data, (1, 2, 0))\n",
    "\n",
    "\n",
    "# Utility function to read the data from csv file\n",
    "def _read_csv(filename):\n",
    "    return pd.read_csv(filename, delim_whitespace=True, header=None)\n",
    "\n",
    "# Utility function to load the signals\n",
    "def load_signals(subset):\n",
    "    signals_data = []\n",
    "\n",
    "    for signal in SIGNALS:\n",
    "        filename = f'UCI_HAR_Dataset/{subset}/Inertial Signals/{signal}_{subset}.txt'\n",
    "        signals_data.append(\n",
    "            _read_csv(filename).to_numpy()  # Use to_numpy() instead of as_matrix()\n",
    "        )\n",
    "\n",
    "    # Transpose is used to change the dimensionality of the output,\n",
    "    # aggregating the signals by combination of sample/timestep.\n",
    "    # Resultant shape is (7352 train/2947 test samples, 128 timesteps, 9 signals)\n",
    "    return np.transpose(signals_data, (1, 2, 0))\n"
   ]
  },
  {
   "cell_type": "code",
   "execution_count": 32,
   "metadata": {
    "collapsed": true
   },
   "outputs": [],
   "source": [
    "def load_y(subset):\n",
    "    \"\"\"\n",
    "    The objective that we are trying to predict is an integer, from 1 to 6,\n",
    "    that represents a human activity. We return a binary representation of\n",
    "    every sample objective as a 6 bits vector using One Hot Encoding\n",
    "    (https://pandas.pydata.org/pandas-docs/stable/generated/pandas.get_dummies.html)\n",
    "    \"\"\"\n",
    "    filename = f'UCI_HAR_Dataset/{subset}/y_{subset}.txt'\n",
    "    y = _read_csv(filename)[0]\n",
    "\n",
    "    return pd.get_dummies(y).to_numpy()  # Ensure you're using to_numpy() here"
   ]
  },
  {
   "cell_type": "code",
   "execution_count": 33,
   "metadata": {
    "collapsed": true
   },
   "outputs": [],
   "source": [
    "def load_data():\n",
    "    \"\"\"\n",
    "    Obtain the dataset from multiple files.\n",
    "    Returns: X_train, X_test, y_train, y_test\n",
    "    \"\"\"\n",
    "    X_train, X_test = load_signals('train'), load_signals('test')\n",
    "    y_train, y_test = load_y('train'), load_y('test')\n",
    "\n",
    "    return X_train, X_test, y_train, y_test"
   ]
  },
  {
   "cell_type": "code",
   "execution_count": 34,
   "metadata": {
    "collapsed": true
   },
   "outputs": [],
   "source": [
    "# Importing tensorflow\n",
    "np.random.seed(42)\n",
    "import tensorflow as tf\n",
    "tf.random.set_seed(42)"
   ]
  },
  {
   "cell_type": "code",
   "execution_count": 35,
   "metadata": {
    "collapsed": true
   },
   "outputs": [],
   "source": [
    "# # Configuring a session\n",
    "# session_conf = tf.ConfigProto(\n",
    "#     intra_op_parallelism_threads=1,\n",
    "#     inter_op_parallelism_threads=1\n",
    "# )\n",
    "\n",
    "# import tensorflow as tf\n",
    "\n",
    "# Use ConfigProto from the tf.compat.v1 module for TensorFlow 2.x\n",
    "session_conf = tf.compat.v1.ConfigProto(\n",
    "    intra_op_parallelism_threads=1,\n",
    "    inter_op_parallelism_threads=1\n",
    ")\n",
    "\n",
    "# Disable eager execution if you're using session-based code\n",
    "tf.compat.v1.disable_eager_execution()\n",
    "\n",
    "# Create a session with the configuration\n",
    "session = tf.compat.v1.Session(config=session_conf)\n"
   ]
  },
  {
   "cell_type": "code",
   "execution_count": 44,
   "metadata": {},
   "outputs": [],
   "source": [
    "# # Import Keras\n",
    "# from keras import backend as K\n",
    "# sess = tf.Session(graph=tf.get_default_graph(), config=session_conf)\n",
    "# K.set_session(sess)"
   ]
  },
  {
   "cell_type": "code",
   "execution_count": 36,
   "metadata": {
    "collapsed": true
   },
   "outputs": [],
   "source": [
    "# Importing libraries\n",
    "from keras.models import Sequential\n",
    "from keras.layers import LSTM\n",
    "# from keras.layers.core import Dense, Dropout\n",
    "# Correct imports for TensorFlow 2.x\n",
    "from tensorflow.keras.layers import Dense, Dropout, Activation, Flatten\n"
   ]
  },
  {
   "cell_type": "code",
   "execution_count": 37,
   "metadata": {
    "collapsed": true
   },
   "outputs": [],
   "source": [
    "# Initializing parameters\n",
    "epochs = 30\n",
    "batch_size = 16\n",
    "n_hidden = 32"
   ]
  },
  {
   "cell_type": "code",
   "execution_count": 38,
   "metadata": {
    "collapsed": true
   },
   "outputs": [],
   "source": [
    "# Utility function to count the number of classes\n",
    "def _count_classes(y):\n",
    "    return len(set([tuple(category) for category in y]))"
   ]
  },
  {
   "cell_type": "code",
   "execution_count": 39,
   "metadata": {
    "collapsed": true
   },
   "outputs": [],
   "source": [
    "# Loading the train and test data\n",
    "X_train, X_test, Y_train, Y_test = load_data()"
   ]
  },
  {
   "cell_type": "code",
   "execution_count": 40,
   "metadata": {},
   "outputs": [
    {
     "name": "stdout",
     "output_type": "stream",
     "text": [
      "128\n",
      "9\n",
      "7352\n"
     ]
    }
   ],
   "source": [
    "timesteps = len(X_train[0])\n",
    "input_dim = len(X_train[0][0])\n",
    "n_classes = _count_classes(Y_train)\n",
    "\n",
    "print(timesteps)\n",
    "print(input_dim)\n",
    "print(len(X_train))"
   ]
  },
  {
   "cell_type": "markdown",
   "metadata": {},
   "source": [
    "- Defining the Architecture of LSTM"
   ]
  },
  {
   "cell_type": "code",
   "execution_count": 41,
   "metadata": {},
   "outputs": [
    {
     "name": "stdout",
     "output_type": "stream",
     "text": [
      "Model: \"sequential\"\n",
      "_________________________________________________________________\n",
      " Layer (type)                Output Shape              Param #   \n",
      "=================================================================\n",
      " lstm (LSTM)                 (None, 32)                5376      \n",
      "                                                                 \n",
      " dropout (Dropout)           (None, 32)                0         \n",
      "                                                                 \n",
      " dense (Dense)               (None, 6)                 198       \n",
      "                                                                 \n",
      "=================================================================\n",
      "Total params: 5574 (21.77 KB)\n",
      "Trainable params: 5574 (21.77 KB)\n",
      "Non-trainable params: 0 (0.00 Byte)\n",
      "_________________________________________________________________\n"
     ]
    }
   ],
   "source": [
    "# Initiliazing the sequential model\n",
    "model = Sequential()\n",
    "# Configuring the parameters\n",
    "model.add(LSTM(n_hidden, input_shape=(timesteps, input_dim)))\n",
    "# Adding a dropout layer\n",
    "model.add(Dropout(0.5))\n",
    "# Adding a dense output layer with sigmoid activation\n",
    "model.add(Dense(n_classes, activation='sigmoid'))\n",
    "model.summary()"
   ]
  },
  {
   "cell_type": "code",
   "execution_count": 42,
   "metadata": {
    "collapsed": true
   },
   "outputs": [],
   "source": [
    "# Compiling the model\n",
    "model.compile(loss='categorical_crossentropy',\n",
    "              optimizer='rmsprop',\n",
    "              metrics=['accuracy'])"
   ]
  },
  {
   "cell_type": "code",
   "execution_count": 45,
   "metadata": {},
   "outputs": [
    {
     "name": "stdout",
     "output_type": "stream",
     "text": [
      "Train on 7352 samples, validate on 2947 samples\n",
      "Epoch 1/30\n",
      "7352/7352 [==============================] - 98s 13ms/sample - loss: 0.3898 - accuracy: 0.8732 - val_loss: 0.4734 - val_accuracy: 0.8599\n",
      "Epoch 2/30\n",
      "7352/7352 [==============================] - 95s 13ms/sample - loss: 0.3343 - accuracy: 0.8959 - val_loss: 0.4021 - val_accuracy: 0.8680\n",
      "Epoch 3/30\n",
      "7352/7352 [==============================] - 106s 14ms/sample - loss: 0.2817 - accuracy: 0.9159 - val_loss: 0.4614 - val_accuracy: 0.8609\n",
      "Epoch 4/30\n",
      "7352/7352 [==============================] - 75s 10ms/sample - loss: 0.2384 - accuracy: 0.9238 - val_loss: 0.4959 - val_accuracy: 0.8734\n",
      "Epoch 5/30\n",
      "7352/7352 [==============================] - 78s 11ms/sample - loss: 0.2440 - accuracy: 0.9227 - val_loss: 0.4411 - val_accuracy: 0.8734\n",
      "Epoch 6/30\n",
      "7352/7352 [==============================] - 67s 9ms/sample - loss: 0.2044 - accuracy: 0.9374 - val_loss: 0.3146 - val_accuracy: 0.8928\n",
      "Epoch 7/30\n",
      "7352/7352 [==============================] - 70s 10ms/sample - loss: 0.1933 - accuracy: 0.9336 - val_loss: 0.3681 - val_accuracy: 0.8955\n",
      "Epoch 8/30\n",
      "7352/7352 [==============================] - 38s 5ms/sample - loss: 0.1745 - accuracy: 0.9378 - val_loss: 0.3994 - val_accuracy: 0.8877\n",
      "Epoch 9/30\n",
      "7352/7352 [==============================] - 59s 8ms/sample - loss: 0.1842 - accuracy: 0.9403 - val_loss: 0.3367 - val_accuracy: 0.9013\n",
      "Epoch 10/30\n",
      "7352/7352 [==============================] - 46s 6ms/sample - loss: 0.1604 - accuracy: 0.9421 - val_loss: 0.5096 - val_accuracy: 0.8785\n",
      "Epoch 11/30\n",
      "7352/7352 [==============================] - 37s 5ms/sample - loss: 0.1687 - accuracy: 0.9429 - val_loss: 0.3336 - val_accuracy: 0.9101\n",
      "Epoch 12/30\n",
      "7352/7352 [==============================] - 41s 6ms/sample - loss: 0.1856 - accuracy: 0.9396 - val_loss: 0.5001 - val_accuracy: 0.8823\n",
      "Epoch 13/30\n",
      "7352/7352 [==============================] - 37s 5ms/sample - loss: 0.1521 - accuracy: 0.9479 - val_loss: 0.3952 - val_accuracy: 0.8989\n",
      "Epoch 14/30\n",
      "7352/7352 [==============================] - 34s 5ms/sample - loss: 0.1630 - accuracy: 0.9442 - val_loss: 0.3865 - val_accuracy: 0.9060\n",
      "Epoch 15/30\n",
      "7352/7352 [==============================] - 34s 5ms/sample - loss: 0.1667 - accuracy: 0.9423 - val_loss: 0.3516 - val_accuracy: 0.9057\n",
      "Epoch 16/30\n",
      "7352/7352 [==============================] - 32s 4ms/sample - loss: 0.1481 - accuracy: 0.9471 - val_loss: 0.3784 - val_accuracy: 0.9016\n",
      "Epoch 17/30\n",
      "7352/7352 [==============================] - 56s 8ms/sample - loss: 0.1573 - accuracy: 0.9453 - val_loss: 0.5080 - val_accuracy: 0.8833\n",
      "Epoch 18/30\n",
      "7352/7352 [==============================] - 30s 4ms/sample - loss: 0.1473 - accuracy: 0.9453 - val_loss: 0.4309 - val_accuracy: 0.8907\n",
      "Epoch 19/30\n",
      "7352/7352 [==============================] - 42s 6ms/sample - loss: 0.1350 - accuracy: 0.9461 - val_loss: 0.6670 - val_accuracy: 0.8816\n",
      "Epoch 20/30\n",
      "7352/7352 [==============================] - 53s 7ms/sample - loss: 0.1497 - accuracy: 0.9461 - val_loss: 0.3692 - val_accuracy: 0.9002\n",
      "Epoch 21/30\n",
      "7352/7352 [==============================] - 52s 7ms/sample - loss: 0.1435 - accuracy: 0.9464 - val_loss: 0.5962 - val_accuracy: 0.8894\n",
      "Epoch 22/30\n",
      "7352/7352 [==============================] - 53s 7ms/sample - loss: 0.1532 - accuracy: 0.9452 - val_loss: 0.7461 - val_accuracy: 0.8717\n",
      "Epoch 23/30\n",
      "7352/7352 [==============================] - 60s 8ms/sample - loss: 0.1458 - accuracy: 0.9502 - val_loss: 0.5385 - val_accuracy: 0.8951\n",
      "Epoch 24/30\n",
      "7352/7352 [==============================] - 61s 8ms/sample - loss: 0.1451 - accuracy: 0.9484 - val_loss: 0.9417 - val_accuracy: 0.8612\n",
      "Epoch 25/30\n",
      "7352/7352 [==============================] - 51s 7ms/sample - loss: 0.1468 - accuracy: 0.9499 - val_loss: 0.4240 - val_accuracy: 0.9057\n",
      "Epoch 26/30\n",
      "7352/7352 [==============================] - 49s 7ms/sample - loss: 0.1473 - accuracy: 0.9461 - val_loss: 0.4407 - val_accuracy: 0.9067\n",
      "Epoch 27/30\n",
      "7352/7352 [==============================] - 39s 5ms/sample - loss: 0.1519 - accuracy: 0.9483 - val_loss: 0.4954 - val_accuracy: 0.9053\n",
      "Epoch 28/30\n",
      "7352/7352 [==============================] - 45s 6ms/sample - loss: 0.1386 - accuracy: 0.9502 - val_loss: 0.4881 - val_accuracy: 0.9030\n",
      "Epoch 29/30\n",
      "7352/7352 [==============================] - 56s 8ms/sample - loss: 0.1596 - accuracy: 0.9497 - val_loss: 0.6081 - val_accuracy: 0.8945\n",
      "Epoch 30/30\n",
      "7352/7352 [==============================] - 102s 14ms/sample - loss: 0.1724 - accuracy: 0.9446 - val_loss: 0.4921 - val_accuracy: 0.9053\n"
     ]
    },
    {
     "data": {
      "text/plain": [
       "<keras.src.callbacks.History at 0x1200f9b50>"
      ]
     },
     "execution_count": 45,
     "metadata": {},
     "output_type": "execute_result"
    }
   ],
   "source": [
    "# Training the model\n",
    "model.fit(X_train,\n",
    "          Y_train,\n",
    "          batch_size=batch_size,\n",
    "          validation_data=(X_test, Y_test),\n",
    "          epochs=epochs)"
   ]
  },
  {
   "cell_type": "code",
   "execution_count": 46,
   "metadata": {},
   "outputs": [
    {
     "name": "stderr",
     "output_type": "stream",
     "text": [
      "/Users/riddhinarkar/Library/Python/3.8/lib/python/site-packages/keras/src/engine/training_v1.py:2359: UserWarning: `Model.state_updates` will be removed in a future version. This property should not be used in TensorFlow 2.0, as `updates` are applied automatically.\n",
      "  updates=self.state_updates,\n",
      "2024-09-23 23:01:01.560255: W tensorflow/c/c_api.cc:304] Operation '{name:'dense/Sigmoid' id:292 op device:{requested: '', assigned: ''} def:{{{node dense/Sigmoid}} = Sigmoid[T=DT_FLOAT, _has_manual_control_dependencies=true](dense/BiasAdd)}}' was changed by setting attribute after it was run by a session. This mutation will have no effect, and will trigger an error in the future. Either don't modify nodes after running them or create a new session.\n"
     ]
    },
    {
     "name": "stdout",
     "output_type": "stream",
     "text": [
      "Pred                LAYING  SITTING  STANDING  WALKING  WALKING_DOWNSTAIRS  \\\n",
      "True                                                                         \n",
      "LAYING                 509        1         0        0                   0   \n",
      "SITTING                  0      365       124        0                   0   \n",
      "STANDING                 0       49       481        2                   0   \n",
      "WALKING                  0        0         0      464                  26   \n",
      "WALKING_DOWNSTAIRS       0        0         0        4                 408   \n",
      "WALKING_UPSTAIRS         0        1         0       12                  17   \n",
      "\n",
      "Pred                WALKING_UPSTAIRS  \n",
      "True                                  \n",
      "LAYING                            27  \n",
      "SITTING                            2  \n",
      "STANDING                           0  \n",
      "WALKING                            6  \n",
      "WALKING_DOWNSTAIRS                 8  \n",
      "WALKING_UPSTAIRS                 441  \n"
     ]
    }
   ],
   "source": [
    "# Confusion Matrix\n",
    "print(confusion_matrix(Y_test, model.predict(X_test)))"
   ]
  },
  {
   "cell_type": "code",
   "execution_count": 47,
   "metadata": {},
   "outputs": [],
   "source": [
    "score = model.evaluate(X_test, Y_test)"
   ]
  },
  {
   "cell_type": "code",
   "execution_count": 48,
   "metadata": {},
   "outputs": [
    {
     "data": {
      "text/plain": [
       "[0.49208082423090777, 0.90532744]"
      ]
     },
     "execution_count": 48,
     "metadata": {},
     "output_type": "execute_result"
    }
   ],
   "source": [
    "score"
   ]
  },
  {
   "cell_type": "markdown",
   "metadata": {},
   "source": [
    "- With a simple 2 layer architecture we got 90.53% accuracy and a loss of 0.4\n",
    "- We can further imporve the performace with Hyperparameter tuning"
   ]
  }
 ],
 "metadata": {
  "kernelspec": {
   "display_name": "Python 3",
   "language": "python",
   "name": "python3"
  },
  "language_info": {
   "codemirror_mode": {
    "name": "ipython",
    "version": 3
   },
   "file_extension": ".py",
   "mimetype": "text/x-python",
   "name": "python",
   "nbconvert_exporter": "python",
   "pygments_lexer": "ipython3",
   "version": "3.8.2"
  }
 },
 "nbformat": 4,
 "nbformat_minor": 2
}
